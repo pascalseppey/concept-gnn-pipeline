{
 "cells": [
  {
   "cell_type": "markdown",
   "metadata": {
    "id": "title"
   },
   "source": [
    "# Concept GNN Pipeline – GPU A100\n",
    "Ce notebook exécute automatiquement toutes les étapes du projet (balayage métrique, génération, entraînement, évaluation) en partant du repo **pascalseppey/concept-gnn-pipeline**." ]
  },
  {
   "cell_type": "markdown",
   "metadata": {
    "id": "prereq"
   },
   "source": [
    "## 1. Pré-requis\n",
    "- Runtime Colab : **GPU A100** (Runtime → Modifier le type de matériel → GPU → A100).\n",
    "- Repo GitHub : `https://github.com/pascalseppey/concept-gnn-pipeline.git`.\n",
    "- `requirements.txt` gère toutes les dépendances (PyTorch GPU, torch_geometric, etc.)." ]
  },
  {
   "cell_type": "code",
   "execution_count": null,
   "metadata": {
    "id": "gpu"
   },
   "outputs": [],
   "source": ["!nvidia-smi"]
  },
  {
   "cell_type": "markdown",
   "metadata": {
    "id": "clone"
   },
   "source": ["## 2. Cloner le repo et installer les dépendances"]
  },
  {
   "cell_type": "code",
   "execution_count": null,
   "metadata": {
    "id": "setup"
   },
   "outputs": [],
   "source": [
    "import os\n",
    "REPO_URL = 'https://github.com/pascalseppey/concept-gnn-pipeline.git'\n",
    "REPO_DIR = '/content/concept-gnn-pipeline'\n",
    "\n",
    "if not os.path.exists(REPO_DIR):\n",
    "    !git clone --depth 1 {REPO_URL} {REPO_DIR}\n",
    "else:\n",
    "    %cd {REPO_DIR}\n",
    "    !git pull\n",
    "\n",
    "%cd {REPO_DIR}\n",
    "!pip install -U pip\n",
    "!pip install -r requirements.txt"
   ]
  },
  {
   "cell_type": "markdown",
   "metadata": {
    "id": "show-config"
   },
   "source": ["## 3. Vérifier / ajuster les configurations"]
  },
  {
   "cell_type": "code",
   "execution_count": null,
   "metadata": {
    "id": "configs"
   },
   "outputs": [],
   "source": ["!ls config\n", "!cat config/generator.yml"]
  },
  {
   "cell_type": "markdown",
   "metadata": {
    "id": "sweep"
   },
   "source": ["## 4. Balayage métrique (facultatif mais conseillé)"]
  },
  {
   "cell_type": "code",
   "execution_count": null,
   "metadata": {
    "id": "run-sweep"
   },
   "outputs": [],
   "source": [
    "!python scripts/effect_metric_sweep.py \\\n        --config config/bins.yml \\\n        --output data/logs/effect_metric_sweep.csv\n",
    "!head -n 5 data/logs/effect_metric_sweep.csv"
   ]
  },
  {
   "cell_type": "markdown",
   "metadata": {
    "id": "dataset"
   },
   "source": ["## 5. Génération du dataset (multi-passes, couverture adaptative)"]
  },
  {
   "cell_type": "code",
   "execution_count": null,
   "metadata": {
    "id": "generate"
   },
   "outputs": [],
   "source": [
    "DATASET_PATH = 'data/logs/train_dataset.jsonl'\n",
    "!python scripts/generate_dataset.py \\\n        --config config/generator.yml \\\n        --num-workers 8 \\\n        --output {DATASET_PATH}\n",
    "!tail -n 5 {DATASET_PATH}"
   ]
  },
  {
   "cell_type": "markdown",
   "metadata": {
    "id": "analyse"
   },
   "source": ["## 6. Analyse rapide du dataset\n",
    "Affiche les statistiques et génère des histogrammes (stockés dans `analysis/plots`)."]
  },
  {
   "cell_type": "code",
   "execution_count": null,
   "metadata": {
    "id": "analyse-code"
   },
   "outputs": [],
   "source": [
    "!python scripts/analyse_metrics.py \\\n        --input {DATASET_PATH} \\\n        --limit 5000 \\\n        --output-dir analysis/plots\n",
    "!ls analysis/plots | head"
   ]
  },
  {
   "cell_type": "markdown",
   "metadata": {
    "id": "train"
   },
   "source": ["## 7. Entraînement GNN"]
  },
  {
   "cell_type": "code",
   "execution_count": null,
   "metadata": {
    "id": "train-code"
   },
   "outputs": [],
   "source": [
    "LOG_DIR = 'data/logs/run_colab'\n",
    "!python scripts/train_gnn.py \\\n        --config config/train.yml \\\n        --dataset {DATASET_PATH} \\\n        --log-dir {LOG_DIR} \\\n        --epochs 30 \\\n        --checkpoint-every 5"
   ]
  },
  {
   "cell_type": "markdown",
   "metadata": {
    "id": "metrics"
   },
   "source": ["## 8. Visualiser les métriques d'entraînement"]
  },
  {
   "cell_type": "code",
   "execution_count": null,
   "metadata": {
    "id": "plot"
   },
   "outputs": [],
   "source": [
    "import json\n",
    "import matplotlib.pyplot as plt\n",
    "with open(f'{LOG_DIR}/metrics_log.jsonl') as f:\n",
    "    records = [json.loads(line) for line in f]\n",
    "epochs = [r['epoch'] for r in records]\n",
    "loss = [r['train_loss'] for r in records]\n",
    "train_acc = [r['train_acc'] for r in records]\n",
    "val_acc = [r['val_acc'] for r in records]\n",
    "fig, ax1 = plt.subplots(figsize=(7,4))\n",
    "ax1.plot(epochs, loss, color='tab:red', label='Loss')\n",
    "ax1.set_xlabel('Epoch'); ax1.set_ylabel('Loss', color='tab:red')\n",
    "ax2 = ax1.twinx()\n",
    "ax2.plot(epochs, train_acc, color='tab:blue', label='Train acc')\n",
    "ax2.plot(epochs, val_acc, color='tab:green', label='Val acc')\n",
    "ax2.set_ylabel('Accuracy')\n",
    "fig.legend(loc='upper center', bbox_to_anchor=(0.5,1.12), ncol=3)\n",
    "plt.title('Suivi entraînement GNN')\n",
    "plt.show()"
   ]
  },
  {
   "cell_type": "markdown",
   "metadata": {
    "id": "evaluate"
   },
   "source": ["## 9. Évaluation & inversion"]
  },
  {
   "cell_type": "code",
   "execution_count": null,
   "metadata": {
    "id": "eval-code"
   },
   "outputs": [],
   "source": [
    "!python scripts/evaluate_gnn.py \\\n        --checkpoint {LOG_DIR}/ckpt_epoch30.pt \\\n        --dataset {DATASET_PATH} \\\n        --topk 5"
   ]
  },
  {
   "cell_type": "markdown",
   "metadata": {
    "id": "export"
   },
   "source": ["## 10. Export des artifacts"]
  },
  {
   "cell_type": "code",
   "execution_count": null,
   "metadata": {
    "id": "tar"
   },
   "outputs": [],
   "source": [
    "!tar -czf run_colab_artifacts.tar.gz {LOG_DIR} data/logs/effect_metric_sweep.csv\n",
    "from google.colab import files\n",
    "files.download('run_colab_artifacts.tar.gz')"
   ]
  },
  {
   "cell_type": "markdown",
   "metadata": {
    "id": "next"
   },
   "source": [
    "## 11. Étapes suivantes\n",
    "- Ajuster `config/generator.yml` pour des passes additionnelles / nouvelles familles.\n",
    "- Étendre `config/bins.yml` si nécessaire.\n",
    "- Lancer des entraînements distribués sur cluster GH200/H100.\n",
    "- Intégrer le pipeline d'inversion et l'estimateur WebP dans un service production." ]
  }
 ],
 "metadata": {
  "colab": {
   "name": "concept_gnn_pipeline.ipynb",
   "provenance": []
  },
  "kernelspec": {
   "display_name": "Python 3",
   "name": "python3"
  },
  "language_info": {
   "name": "python"
  }
 },
 "nbformat": 4,
 "nbformat_minor": 4
}
